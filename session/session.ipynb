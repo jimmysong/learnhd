{
 "cells": [
  {
   "cell_type": "markdown",
   "id": "bf13344f",
   "metadata": {
    "slideshow": {
     "slide_type": "slide"
    }
   },
   "source": [
    "# Session Objectives\n",
    "* Learn HD Wallets (BIP32)\n",
    "* Learn HD Wallet Organization (BIP44)\n",
    "* Learn Mnemonic Backup (BIP39)\n",
    "* Create Wallet Seeds\n"
   ]
  },
  {
   "cell_type": "markdown",
   "id": "71f79b84",
   "metadata": {
    "slideshow": {
     "slide_type": "slide"
    }
   },
   "source": [
    "# HD Wallets\n"
   ]
  },
  {
   "cell_type": "markdown",
   "id": "a76d08c5",
   "metadata": {
    "slideshow": {
     "slide_type": "slide"
    }
   },
   "source": [
    "# Motivation\n",
    "* Reusing Addresses compromises privacy\n",
    "* Creating a new private key means having to back it up\n",
    "* Core wallet used to generate 100 private keys at a time\n",
    "* Backing up many private keys is not easy to do on paper\n"
   ]
  },
  {
   "cell_type": "markdown",
   "id": "796a523b",
   "metadata": {
    "slideshow": {
     "slide_type": "slide"
    }
   },
   "source": [
    "# Deterministic Wallets\n",
    "* Single seed can generate virtually infinite private keys\n",
    "* (N+1)st private key generated from the Nth private key and a code\n",
    "* Used first in Armory back in 2012\n"
   ]
  },
  {
   "cell_type": "markdown",
   "id": "7d6e302e",
   "metadata": {
    "slideshow": {
     "slide_type": "slide"
    }
   },
   "source": [
    "# Naive Deterministic Wallet\n",
    "* $eG=P$\n",
    "* $(e+1)G=eG+G=P+G$\n",
    "* $(e+2)G=eG+2G=P+2G$\n",
    "* ...\n",
    "* Store private key $e$ and reveal $P$ to payer\n",
    "* No privacy from chain analysis or payer\n"
   ]
  },
  {
   "cell_type": "markdown",
   "id": "af526f95",
   "metadata": {
    "slideshow": {
     "slide_type": "slide"
    }
   },
   "source": [
    "# Robust Deterministic Wallet\n",
    "* $eG=P$, $c$ is a shared secret, $H$ is a hash function\n",
    "* $(e+H(c,P,1))G=P+H(1+P,c)G$\n",
    "* $(e+H(c,P,2))G=P+H(2+P,c)G$\n",
    "* ...\n",
    "* Store private key $e$ and reveal $P$, $c$ to payer\n",
    "* Privacy from chain analysis\n",
    "* No privacy from payers\n"
   ]
  },
  {
   "cell_type": "markdown",
   "id": "4b46aabb",
   "metadata": {
    "slideshow": {
     "slide_type": "slide"
    }
   },
   "source": [
    "# Message Authentication Codes\n",
    "* Used for verifying that a message is authentic when you share a secret already\n",
    "* HMAC is an implementation of MAC where H stands for \"hash-based\"\n",
    "* Most cryptographic hash functions (like sha256) have an HMAC implementation\n"
   ]
  },
  {
   "cell_type": "markdown",
   "id": "8b358568",
   "metadata": {
    "slideshow": {
     "slide_type": "slide"
    }
   },
   "source": [
    "# Heirarchical Deterministic Wallets (BIP32)\n",
    "* Single seed + chain code (shared secret)\n",
    "* The master private key can generate $2^{32}$ child private keys\n",
    "* Every child private key can also generate $2^{32}$ child private keys\n",
    "* Revealing a child public key does not reveal the parent public key\n",
    "* Adds privacy from recpients\n"
   ]
  },
  {
   "cell_type": "markdown",
   "id": "6334efc7",
   "metadata": {
    "slideshow": {
     "slide_type": "slide"
    }
   },
   "source": [
    "# Implementation\n",
    "* $eG=P$, $e$ is the private key, $P$ is the public key\n",
    "* $c$ is the chaincode $H$ is the HMAC-SHA512 function\n",
    "* $2^{31}$ hardened keys and $2^{31}$ unhardened keys\n",
    "* Hardened means the public key ($P$) and chain code ($c$) *cannot* derive the child public key.\n",
    "* Unhardened means the public key ($P$) and chain code ($c$) *can* derive the child public key\n"
   ]
  },
  {
   "cell_type": "markdown",
   "id": "0bbfc0c4",
   "metadata": {
    "slideshow": {
     "slide_type": "slide"
    }
   },
   "source": [
    "# Defining a HD Public Key\n",
    "* public key - normal ECC public key (33 bytes)\n",
    "* chain code - 32-byte shared secret with payers\n",
    "* depth - 0 is root, 1 is a child of root, 2 is grandchild of root, etc.\n",
    "* fingerprint- `00000000` for root, first 4 bytes of parent pubkey's hash160.\n",
    "* child number - ordering from parent\n"
   ]
  },
  {
   "cell_type": "markdown",
   "id": "ae4eb641",
   "metadata": {
    "slideshow": {
     "slide_type": "slide"
    }
   },
   "source": [
    "# Defining a HD Private Key\n",
    "* private key - normal ECC private key (33 bytes)\n",
    "* chain code - 32-byte shared secret with payers\n",
    "* depth - 0 is root, 1 is a child of root, 2 is grandchild of root, etc.\n",
    "* fingerprint- `00000000` for root, first 4 bytes of parent pubkey's hash160.\n",
    "* child number - ordering from parent\n"
   ]
  },
  {
   "cell_type": "markdown",
   "id": "e100fa06",
   "metadata": {
    "slideshow": {
     "slide_type": "slide"
    }
   },
   "source": [
    "# Process for generating a Master HD Private Key\n",
    "* Create a seed of 128 to 512 bits\n",
    "* Calculate $h=H(d,s)$ where $H$ is HMAC-SHA512, $d$ is `Bitcoin seed` and $s$ is the seed.\n",
    "* Master secret = first 256 bits of $h$ in big-endian\n",
    "* Master chain code = last 256 bits of $h$ in big-endian\n"
   ]
  },
  {
   "cell_type": "code",
   "execution_count": null,
   "id": "241dc19f",
   "metadata": {
    "slideshow": {
     "slide_type": "slide"
    }
   },
   "outputs": [],
   "source": [
    "# Example Master Key Generation\n",
    "from ecc import PrivateKey\n",
    "from helper import big_endian_to_int, hmac_sha512, raw_decode_base58\n",
    "from hd import HDPrivateKey\n",
    "seed = b'jimmy@programmingblockchain.com Jimmy Song'\n",
    "h = hmac_sha512(b'Bitcoin seed', seed)\n",
    "private_key = PrivateKey(secret=big_endian_to_int(h[:32]))\n",
    "chain_code = h[32:]\n",
    "master = HDPrivateKey(\n",
    "    private_key=private_key,\n",
    "    chain_code=chain_code,\n",
    "    testnet=True,\n",
    ")\n",
    "print(master.bech32_address())"
   ]
  },
  {
   "cell_type": "code",
   "execution_count": null,
   "id": "21cb3f69",
   "metadata": {
    "slideshow": {
     "slide_type": "skip"
    }
   },
   "outputs": [],
   "source": [
    "############## PLEASE RUN THIS CELL FIRST! ###################\n",
    "\n",
    "# import everything and define a test runner function\n",
    "from importlib import reload\n",
    "from helper import run\n",
    "import hd, tx"
   ]
  },
  {
   "cell_type": "markdown",
   "id": "90992141",
   "metadata": {
    "slideshow": {
     "slide_type": "slide"
    }
   },
   "source": [
    "### Exercise 1\n",
    "\n",
    "\n",
    "\n",
    "\n",
    "#### Make [this test](/edit/session/hd.py) pass: `hd.py:HDTest:test_from_seed`"
   ]
  },
  {
   "cell_type": "code",
   "execution_count": null,
   "id": "d149831f",
   "metadata": {},
   "outputs": [],
   "source": [
    "# Exercise 1\n",
    "\n",
    "reload(hd)\n",
    "run(hd.HDTest('test_from_seed'))"
   ]
  },
  {
   "cell_type": "markdown",
   "id": "5c22297e",
   "metadata": {
    "slideshow": {
     "slide_type": "slide"
    }
   },
   "source": [
    "# HD Child Derivation\n"
   ]
  },
  {
   "cell_type": "markdown",
   "id": "b971d38b",
   "metadata": {
    "slideshow": {
     "slide_type": "slide"
    }
   },
   "source": [
    "# Deriving the child key\n",
    "* $eG=P$ where $e$ is the private key and $P$ is the public key\n",
    "* $H$ is HMAC-SHA512, $c$ is the chain code, $i$ is the child number\n",
    "* $h$ is the derivation source\n",
    "* For hardened children, $h=H(c,e||i)$\n",
    "* For unhardened children, $h=H(c,P||i)$\n",
    "* $e_{child}=h_l+e$ where $h_l$ is the first 256 bits of $h$\n",
    "* $P_{child}=h_l*G+P$\n",
    "* $c_{child}=h_r$ where $h_r$ is the last 256 bits of $h$\n"
   ]
  },
  {
   "cell_type": "code",
   "execution_count": null,
   "id": "297cc01f",
   "metadata": {
    "slideshow": {
     "slide_type": "slide"
    }
   },
   "outputs": [],
   "source": [
    "# Example Unhardened Child Derivation\n",
    "from ecc import N\n",
    "from hd import HDPrivateKey\n",
    "from helper import big_endian_to_int, hmac_sha512, int_to_big_endian\n",
    "seed_phrase = b'jimmy@programmingblockchain.com Jimmy Song'\n",
    "master = HDPrivateKey.from_seed(seed_phrase, True)\n",
    "index = 0\n",
    "data = master.private_key.point.sec() + int_to_big_endian(index, 4)\n",
    "h = hmac_sha512(master.chain_code, data)\n",
    "secret = (big_endian_to_int(h[:32]) + master.private_key.secret) % N\n",
    "unhardened_child = HDPrivateKey(\n",
    "    private_key=PrivateKey(secret=secret),\n",
    "    chain_code=h[32:],\n",
    "    depth=master.depth + 1,\n",
    "    parent_fingerprint=master.fingerprint(),\n",
    "    child_number=index,\n",
    "    testnet=master.testnet,\n",
    ")\n",
    "print(unhardened_child.bech32_address())"
   ]
  },
  {
   "cell_type": "code",
   "execution_count": null,
   "id": "6a226e70",
   "metadata": {
    "slideshow": {
     "slide_type": "slide"
    }
   },
   "outputs": [],
   "source": [
    "# Example Hardened Child Derivation\n",
    "from ecc import N\n",
    "from hd import HDPrivateKey\n",
    "from helper import big_endian_to_int, hmac_sha512, int_to_big_endian\n",
    "seed_phrase = b'jimmy@programmingblockchain.com Jimmy Song'\n",
    "master = HDPrivateKey.from_seed(seed_phrase, True)\n",
    "index = 0x80000002\n",
    "data = int_to_big_endian(master.private_key.secret, 33) + int_to_big_endian(index, 4)\n",
    "h = hmac_sha512(master.chain_code, data)\n",
    "secret = (big_endian_to_int(h[:32]) + master.private_key.secret) % N\n",
    "hardened_child = HDPrivateKey(\n",
    "    private_key=PrivateKey(secret=secret),\n",
    "    chain_code=h[32:],\n",
    "    depth=master.depth + 1,\n",
    "    parent_fingerprint=master.fingerprint(),\n",
    "    child_number=index,\n",
    "    testnet=master.testnet,\n",
    ")\n",
    "print(hardened_child.bech32_address())"
   ]
  },
  {
   "cell_type": "markdown",
   "id": "693d7217",
   "metadata": {
    "slideshow": {
     "slide_type": "slide"
    }
   },
   "source": [
    "### Exercise 2\n",
    "\n",
    "\n",
    "\n",
    "\n",
    "#### Make [this test](/edit/session/hd.py) pass: `hd.py:HDTest:test_child`"
   ]
  },
  {
   "cell_type": "code",
   "execution_count": null,
   "id": "7e219daf",
   "metadata": {},
   "outputs": [],
   "source": [
    "# Exercise 2\n",
    "\n",
    "reload(hd)\n",
    "run(hd.HDTest('test_child'))"
   ]
  },
  {
   "cell_type": "markdown",
   "id": "ad1b2c4e",
   "metadata": {
    "slideshow": {
     "slide_type": "slide"
    }
   },
   "source": [
    "# Path Notation\n",
    "* m/x/y/z\n",
    "* m/1/2'/0 means the root key's 1st unhardened child's 2nd hardened child's 0th unhardened child\n",
    "* / delimits each level and ' or h indicates hardened\n"
   ]
  },
  {
   "cell_type": "code",
   "execution_count": null,
   "id": "11f4ba8b",
   "metadata": {
    "slideshow": {
     "slide_type": "slide"
    }
   },
   "outputs": [],
   "source": [
    "# example of private key path traversal\n",
    "from hd import HDPrivateKey\n",
    "seed_phrase = b'jimmy@programmingblockchain.com Jimmy Song'\n",
    "master = HDPrivateKey.from_seed(seed_phrase, True)\n",
    "current = master\n",
    "path = \"m/0/1'/2/3'\"\n",
    "components = path.split('/')[1:]\n",
    "for child in components:\n",
    "    if child.endswith(\"'\") or child.endswith(\"h\"):\n",
    "        index = int(child[:-1]) + 0x80000000\n",
    "    else:\n",
    "        index = int(child)\n",
    "    current = current.child(index)\n",
    "print(current.bech32_address())"
   ]
  },
  {
   "cell_type": "markdown",
   "id": "646b6de3",
   "metadata": {
    "slideshow": {
     "slide_type": "slide"
    }
   },
   "source": [
    "### Exercise 3\n",
    "\n",
    "\n",
    "\n",
    "\n",
    "#### Make [this test](/edit/session/hd.py) pass: `hd.py:HDTest:test_traverse`"
   ]
  },
  {
   "cell_type": "code",
   "execution_count": null,
   "id": "fe4a20a5",
   "metadata": {},
   "outputs": [],
   "source": [
    "# Exercise 3\n",
    "\n",
    "reload(hd)\n",
    "run(hd.HDTest('test_traverse'))"
   ]
  },
  {
   "cell_type": "markdown",
   "id": "1dee0858",
   "metadata": {
    "slideshow": {
     "slide_type": "slide"
    }
   },
   "source": [
    "# Serialization\n"
   ]
  },
  {
   "cell_type": "markdown",
   "id": "d2a022f1",
   "metadata": {
    "slideshow": {
     "slide_type": "slide"
    }
   },
   "source": [
    "# HD Key Serialization\n",
    "* xprv/xpub standard (BIP32) used for p2pkh\n",
    "* yprv/ypub standard (BIP49) used for p2sh-p2wpkh\n",
    "* zprv/zpub standard (BIP84) used for p2wpkh\n"
   ]
  },
  {
   "cell_type": "markdown",
   "id": "9a3110cb",
   "metadata": {
    "slideshow": {
     "slide_type": "slide"
    }
   },
   "source": [
    "# xpub\n",
    "* version - 4 bytes `0488b21e`\n",
    "* depth - 1 byte\n",
    "* parent fingerprint - 4 bytes\n",
    "* child number - 4 bytes, big endian\n",
    "* chain code - 32 bytes\n",
    "* compressed SEC - 33 bytes\n",
    "* Result is base58-encoded\n"
   ]
  },
  {
   "cell_type": "markdown",
   "id": "0b529855",
   "metadata": {
    "slideshow": {
     "slide_type": "slide"
    }
   },
   "source": [
    "![](https://programmingbitcoin.com/certificates/xpub.png)\n"
   ]
  },
  {
   "cell_type": "code",
   "execution_count": null,
   "id": "08bff28b",
   "metadata": {
    "slideshow": {
     "slide_type": "slide"
    }
   },
   "outputs": [],
   "source": [
    "# Example to create an xpub\n",
    "from hd import HDPrivateKey\n",
    "from helper import encode_base58_checksum, int_to_byte, int_to_big_endian\n",
    "passphrase = b'jimmy@programmingblockchain.com Jimmy Song'\n",
    "hd_priv = HDPrivateKey.from_seed(passphrase)\n",
    "raw = bytes.fromhex('0488b21e')\n",
    "raw += int_to_byte(hd_priv.depth)\n",
    "raw += hd_priv.parent_fingerprint\n",
    "raw += int_to_big_endian(hd_priv.child_number, 4)\n",
    "raw += hd_priv.chain_code\n",
    "raw += hd_priv.pub.point.sec()\n",
    "print(encode_base58_checksum(raw))"
   ]
  },
  {
   "cell_type": "markdown",
   "id": "085b5ace",
   "metadata": {
    "slideshow": {
     "slide_type": "slide"
    }
   },
   "source": [
    "# xprv\n",
    "* version - 4 bytes `0488ade4`\n",
    "* depth - 1 byte\n",
    "* parent fingerprint - 4 bytes\n",
    "* child number - 4 bytes, big endian\n",
    "* chain code - 32 bytes\n",
    "* private key prepended with `00` - 33 bytes\n",
    "* Result is base58-encoded\n"
   ]
  },
  {
   "cell_type": "markdown",
   "id": "50eb2743",
   "metadata": {
    "slideshow": {
     "slide_type": "slide"
    }
   },
   "source": [
    "### Exercise 4\n",
    "#### Create an xprv from your seed\n",
    "\n",
    "Spec is above, the only things that need to change versus the xpub is the version and the private key instead of the compressed SEC\n"
   ]
  },
  {
   "cell_type": "code",
   "execution_count": null,
   "id": "644b6929",
   "metadata": {},
   "outputs": [],
   "source": [
    "# Exercise 4\n",
    "\n",
    "from hd import HDPrivateKey\n",
    "from helper import encode_base58_checksum, int_to_byte, int_to_big_endian\n",
    "passphrase = b'<fill this in>'\n",
    "# create an HDPrivateKey instance using from_seed on testnet\n",
    "\n",
    "# add the version which should be '0488ade4' in binary\n",
    "\n",
    "# add the depth as a single byte\n",
    "\n",
    "# add the parent fingerprint\n",
    "\n",
    "# add the child number in big endian 4 bytes\n",
    "\n",
    "# add the chain code\n",
    "\n",
    "# add the private key in big endian 33 bytes\n",
    "\n",
    "# print the base58\n"
   ]
  },
  {
   "cell_type": "markdown",
   "id": "30da9131",
   "metadata": {
    "slideshow": {
     "slide_type": "slide"
    }
   },
   "source": [
    "### Exercise 5\n",
    "\n",
    "\n",
    "\n",
    "\n",
    "#### Make [this test](/edit/session/hd.py) pass: `hd.py:HDTest:test_prv_pub`"
   ]
  },
  {
   "cell_type": "code",
   "execution_count": null,
   "id": "464850e3",
   "metadata": {},
   "outputs": [],
   "source": [
    "# Exercise 5\n",
    "\n",
    "reload(hd)\n",
    "run(hd.HDTest('test_prv_pub'))"
   ]
  },
  {
   "cell_type": "markdown",
   "id": "ab2ef755",
   "metadata": {
    "slideshow": {
     "slide_type": "slide"
    }
   },
   "source": [
    "### Exercise 6\n",
    "\n",
    "\n",
    "\n",
    "\n",
    "#### Make [this test](/edit/session/hd.py) pass: `hd.py:HDTest:test_parse`"
   ]
  },
  {
   "cell_type": "code",
   "execution_count": null,
   "id": "8e50aa56",
   "metadata": {},
   "outputs": [],
   "source": [
    "# Exercise 6\n",
    "\n",
    "reload(hd)\n",
    "run(hd.HDTest('test_parse'))"
   ]
  },
  {
   "cell_type": "markdown",
   "id": "73a9283e",
   "metadata": {
    "slideshow": {
     "slide_type": "slide"
    }
   },
   "source": [
    "### Exercise 7\n",
    "\n",
    "#### Create an extended public key\n",
    "\n",
    "Create a xpub on testnet (should start with tpub)\n",
    "\n"
   ]
  },
  {
   "cell_type": "code",
   "execution_count": null,
   "id": "6fd2d5a2",
   "metadata": {},
   "outputs": [],
   "source": [
    "# Exercise 7\n",
    "\n",
    "from hd import HDPrivateKey\n",
    "passphrase = b'<fill this in>'\n",
    "# create an HDPrivateKey instance using from_seed on testnet\n",
    "\n",
    "# print the xpub\n"
   ]
  },
  {
   "cell_type": "markdown",
   "id": "2380ff18",
   "metadata": {
    "slideshow": {
     "slide_type": "slide"
    }
   },
   "source": [
    "# BIP44\n"
   ]
  },
  {
   "cell_type": "markdown",
   "id": "9f482c38",
   "metadata": {
    "slideshow": {
     "slide_type": "slide"
    }
   },
   "source": [
    "# Motivation and Structure\n",
    "* Give structure to the BIP32 heirarchy\n",
    "* Purpose - 44' is p2pkh, 49' is p2sh-p2wpkh, 84' is p2wpkh\n",
    "* Coin - 0' is BTC, 1' is testnet BTC, many others [here](https://github.com/satoshilabs/slips/blob/master/slip-0044.md)\n",
    "* Account - Hardened child that corresponds to a payer\n",
    "* Chain - Unhardened child corresponding to receive addresses and change addresses (external/internal)\n",
    "* Address - Unhardened child to get an actual child\n"
   ]
  },
  {
   "cell_type": "markdown",
   "id": "6252466e",
   "metadata": {
    "slideshow": {
     "slide_type": "slide"
    }
   },
   "source": [
    "# Examples\n",
    "* m/44'/0'/0'/0/0 - p2pkh, Mainnet Bitcoin first account, external first address\n",
    "* m/44'/1'/2'/1/3 - p2pkh, Testnet Bitcoin, third account, internal, 4th address\n",
    "* m/49'/0'/1'/1/0 - p2sh-p2wpkh, Mainnet Bitcoin, second account, internal, first address\n",
    "* m/84'/1'/0'/0/2 - p2wpkh, Testnet Bitcoin, first account, external, third address\n"
   ]
  },
  {
   "cell_type": "code",
   "execution_count": null,
   "id": "e379c24e",
   "metadata": {
    "slideshow": {
     "slide_type": "slide"
    }
   },
   "outputs": [],
   "source": [
    "# Example of getting p2pkh/p2sh-p2wpkh/p2wpkh testnet addresses\n",
    "from hd import HDPrivateKey\n",
    "passphrase = b'jimmy@programmingblockchain.com Jimmy Song'\n",
    "hd_priv = HDPrivateKey.from_seed(passphrase, testnet=True)\n",
    "# p2pkh\n",
    "p2pkh_path = \"m/44'/1'/0'/0/0\"\n",
    "print(hd_priv.traverse(p2pkh_path).address())\n",
    "# p2sh-p2wpkh\n",
    "p2sh_p2wpkh_path = \"m/49'/1'/0'/0/0\"\n",
    "print(hd_priv.traverse(p2sh_p2wpkh_path).p2sh_p2wpkh_address())\n",
    "# p2wpkh\n",
    "p2wpkh_path = \"m/84'/1'/0'/0/0\"\n",
    "print(hd_priv.traverse(p2wpkh_path).bech32_address())"
   ]
  },
  {
   "cell_type": "markdown",
   "id": "1e594751",
   "metadata": {
    "slideshow": {
     "slide_type": "slide"
    }
   },
   "source": [
    "### Exercise 8\n",
    "\n",
    "\n",
    "\n",
    "\n",
    "#### Make [this test](/edit/session/hd.py) pass: `hd.py:HDTest:test_get_address`"
   ]
  },
  {
   "cell_type": "code",
   "execution_count": null,
   "id": "1618a9a1",
   "metadata": {},
   "outputs": [],
   "source": [
    "# Exercise 8\n",
    "\n",
    "reload(hd)\n",
    "run(hd.HDTest('test_get_address'))"
   ]
  },
  {
   "cell_type": "markdown",
   "id": "d41b3a8f",
   "metadata": {
    "slideshow": {
     "slide_type": "slide"
    }
   },
   "source": [
    "### Exercise 9\n",
    "\n",
    "#### Create external p2pkh, p2sh_p2wpkh and p2wpkh addresses\n",
    "\n"
   ]
  },
  {
   "cell_type": "code",
   "execution_count": null,
   "id": "1b0e1e45",
   "metadata": {},
   "outputs": [],
   "source": [
    "# Exercise 9\n",
    "\n",
    "from hd import HDPrivateKey\n",
    "passphrase = b'<fill this in>'\n",
    "# create an HDPrivateKey instance using from_seed on testnet\n",
    "\n",
    "# print the p2pkh address\n",
    "\n",
    "# print the p2sh-pwpkh address\n",
    "\n",
    "# print the p2wpkh address\n"
   ]
  },
  {
   "cell_type": "markdown",
   "id": "0fc37a7e",
   "metadata": {
    "slideshow": {
     "slide_type": "slide"
    }
   },
   "source": [
    "### Exercise 10\n",
    "\n",
    "#### Create xpub for account 0\n",
    "\n"
   ]
  },
  {
   "cell_type": "code",
   "execution_count": null,
   "id": "6a8ff632",
   "metadata": {},
   "outputs": [],
   "source": [
    "# Exercise 10\n",
    "\n",
    "from hd import HDPrivateKey\n",
    "passphrase = b'<fill this in>'\n",
    "# create an HDPrivateKey instance using from_seed on testnet\n",
    "\n",
    "# calculate the path for purpose=44', coin=1' (testnet), account=0\n",
    "\n",
    "# print the xpub at that path\n"
   ]
  },
  {
   "cell_type": "markdown",
   "id": "1cdf4d60",
   "metadata": {
    "slideshow": {
     "slide_type": "slide"
    }
   },
   "source": [
    "# Mnemonics\n"
   ]
  },
  {
   "cell_type": "markdown",
   "id": "fd72b940",
   "metadata": {
    "slideshow": {
     "slide_type": "slide"
    }
   },
   "source": [
    "# What is a Mnemonic Backup?\n",
    "* A way to back up HD wallets\n",
    "* Easier to remember than base58\n",
    "* Uses 2048 English words whose first 4 letters differ\n",
    "* Each word stores 11 bits of information\n",
    "* There's 1 checksum bit for every 32 bits\n"
   ]
  },
  {
   "cell_type": "markdown",
   "id": "f54badf1",
   "metadata": {
    "slideshow": {
     "slide_type": "slide"
    }
   },
   "source": [
    "# BIP39\n",
    "* Specifies Mnemonic Backup standard\n",
    "* Optional passphrase for more security\n",
    "* Different numbers of words correspond to different amounts of entropy\n",
    "* 12, 15, 18, 21 and 24 words allowed\n",
    "* Hard to brute force, even at 12 words\n"
   ]
  },
  {
   "cell_type": "markdown",
   "id": "0e37eea5",
   "metadata": {
    "slideshow": {
     "slide_type": "slide"
    }
   },
   "source": [
    "# How to generate a Mnemonic\n",
    "* Start with a 128/160/192/224/256 bit random number\n",
    "* Divide the number of bits by 32, that's how many checksum bits $n$\n",
    "* Checksum is the first n bits of the SHA256 of the random number as a big-endian integer\n",
    "* Combine the bits and checksum to produce a bit array\n",
    "* There should be some multiple of 11 bits.\n",
    "* Each 11 bits corresponds to a word as $2^{11}=2048$\n"
   ]
  },
  {
   "cell_type": "code",
   "execution_count": null,
   "id": "4fb4ccb4",
   "metadata": {
    "slideshow": {
     "slide_type": "slide"
    }
   },
   "outputs": [],
   "source": [
    "def secure_mnemonic(entropy=0, num_bits=128):\n",
    "    # if we have more than 128 bits, just mask everything but the last 128 bits\n",
    "    if len(bin(entropy)) > num_bits+2:\n",
    "        entropy &= (1 << num_bits) - 1\n",
    "    # xor some random bits with the entropy that was passed in\n",
    "    preseed = randbits(num_bits) ^ entropy\n",
    "    # convert the number to big-endian\n",
    "    s = int_to_big_endian(preseed, 16)\n",
    "    # 1 extra bit for checksum is needed per 32 bits\n",
    "    checksum_bits_needed = num_bits // 32\n",
    "    # the checksum is the sha256's first n bits. At most this is 8\n",
    "    checksum = sha256(s)[0] >> (8 - checksum_bits_needed)\n",
    "    # we concatenate the checksum to the preseed\n",
    "    total = (preseed << checksum_bits_needed) | checksum\n",
    "    # now we get the mnemonic passphrase\n",
    "    mnemonic = []\n",
    "    # now group into groups of 11 bits\n",
    "    for _ in range((num_bits + bits_needed) // 11):\n",
    "        # grab the last 11 bits\n",
    "        current = total & ((1 << 11) - 1)\n",
    "        # insert the correct word at the front\n",
    "        mnemonic.insert(0, WORD_LIST[current])\n",
    "        # shift by 11 bits so we can move to the next set\n",
    "        total >>= 11\n",
    "    # return the mnemonic phrase by putting spaces between\n",
    "    return ' '.join(mnemonic)"
   ]
  },
  {
   "cell_type": "code",
   "execution_count": null,
   "id": "7cee48a2",
   "metadata": {
    "slideshow": {
     "slide_type": "slide"
    }
   },
   "outputs": [],
   "source": [
    "# Example of mnemonic to HDPrivateKey\n",
    "from hd import HDPrivateKey\n",
    "from helper import hmac_sha512_kdf, sha256\n",
    "from mnemonic import WORD_LOOKUP, WORD_LIST\n",
    "mnemonic = 'legal winner thank year wave sausage worth useful legal winner thank yellow'\n",
    "password = b'TREZOR'\n",
    "words = mnemonic.split()\n",
    "if len(words) not in (12, 15, 18, 21, 24):\n",
    "    raise ValueError('you need 12, 15, 18, 21, or 24 words')\n",
    "number = 0\n",
    "for word in words:\n",
    "    index = WORD_LOOKUP[word]\n",
    "    number = (number << 11) | index\n",
    "checksum_bits_length = len(words) // 3\n",
    "checksum = number & ((1 << checksum_bits_length) - 1)\n",
    "data_num = number >> checksum_bits_length\n",
    "data = int_to_big_endian(data_num, checksum_bits_length * 4)\n",
    "computed_checksum = sha256(data)[0] >> (8 - checksum_bits_length)\n",
    "if checksum != computed_checksum:\n",
    "    raise ValueError('words fail checksum: {}'.format(words))\n",
    "normalized_words = []\n",
    "for word in words:\n",
    "    normalized_words.append(WORD_LIST[WORD_LOOKUP[word]])\n",
    "normalized_mnemonic = ' '.join(normalized_words)\n",
    "salt = b'mnemonic' + password\n",
    "seed = hmac_sha512_kdf(normalized_mnemonic, salt)\n",
    "print(HDPrivateKey.from_seed(seed).xprv())"
   ]
  },
  {
   "cell_type": "markdown",
   "id": "034176fc",
   "metadata": {
    "slideshow": {
     "slide_type": "slide"
    }
   },
   "source": [
    "### Exercise 11\n",
    "\n",
    "\n",
    "\n",
    "\n",
    "#### Make [this test](/edit/session/hd.py) pass: `hd.py:HDTest:test_from_mnemonic`"
   ]
  },
  {
   "cell_type": "code",
   "execution_count": null,
   "id": "e6048313",
   "metadata": {},
   "outputs": [],
   "source": [
    "# Exercise 11\n",
    "\n",
    "reload(hd)\n",
    "run(hd.HDTest('test_from_mnemonic'))"
   ]
  },
  {
   "cell_type": "markdown",
   "id": "c48a085c",
   "metadata": {
    "slideshow": {
     "slide_type": "slide"
    }
   },
   "source": [
    "### Exercise 12\n",
    "\n",
    "#### Generate a testnet extended public key at m/84'/1'/0' using the generic mnemonic and your own passphrase\n",
    "\n"
   ]
  },
  {
   "cell_type": "code",
   "execution_count": null,
   "id": "7b91dd52",
   "metadata": {},
   "outputs": [],
   "source": [
    "# Exercise 12\n",
    "\n",
    "from hd import HDPrivateKey\n",
    "mnemonic = 'abandon abandon abandon abandon abandon abandon abandon abandon abandon abandon abandon about'\n",
    "passphrase = b'<fill this in>'\n",
    "path = \"m/84'/1'/0'\"\n",
    "# create a private key using the mnemonic, passphrase, path and testnet=True\n",
    "\n",
    "# print the xpub\n"
   ]
  }
 ],
 "metadata": {},
 "nbformat": 4,
 "nbformat_minor": 5
}
